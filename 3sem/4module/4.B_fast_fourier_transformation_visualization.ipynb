{
 "cells": [
  {
   "cell_type": "markdown",
   "metadata": {},
   "source": [
    "Задача \"Преобразование Фурье\"  \n",
    "Для функции f на диапазоне [0, 10] с частотой дискретизации 100 изготовьте код для построения графика f.  \n",
    "Используйте matplotlib.  \n",
    "Реализуйте прямое и обратное дискретное преобразование Фурье FFT и FFTReverse на питоне за O(n log n).  \n",
    "Подготовьте дискретизацию f на отрезке [0, T] - набор значений fi=f(xi) в точках xi,  \n",
    "равномерно расположенных на отрезке [0, T].  \n",
    "По функции f=(f0,..,fm-1) вычислите g = FFT( f ).  \n",
    "Вычислите f2 = FFTReverse( g ).  \n",
    "Постройте график f2.  \n",
    "Обнулите некоторую долю D последних коэффициентов g. Обновите f2 и ее график. Попробуйте несколько различных значений D.  \n",
    "Проведите эксперименты с функциями f = x, x2, sin x, sin x2, sin x / x. Для каждой функции найдите долю D, для которой разница f и f2 видна невооруженным глазом.  "
   ]
  },
  {
   "cell_type": "code",
   "execution_count": 79,
   "metadata": {},
   "outputs": [],
   "source": [
    "import numpy as np\n",
    "import matplotlib.pyplot as plt\n",
    "import math"
   ]
  },
  {
   "cell_type": "code",
   "execution_count": 22,
   "metadata": {},
   "outputs": [],
   "source": [
    "segment_begin = np.float64(0.01)\n",
    "segment_end = np.float64(10)\n",
    "sampling_frequency = 100"
   ]
  },
  {
   "cell_type": "code",
   "execution_count": 23,
   "metadata": {},
   "outputs": [],
   "source": [
    "def fft(array, inverse=False):\n",
    "    array = array + np.zeros(array.shape[0], dtype=np.complex128)\n",
    "    array = recursive_fft(array, inverse).copy()\n",
    "    return array.copy()"
   ]
  },
  {
   "cell_type": "code",
   "execution_count": 24,
   "metadata": {},
   "outputs": [],
   "source": [
    "def recursive_fft(array, inverse=False):\n",
    "    if array.shape[0] == 1:\n",
    "        return np.array([array[0]], dtype=np.complex128)\n",
    "    left_part = array[::2].copy()\n",
    "    right_part = array[1::2].copy()\n",
    "    left_part = recursive_fft(left_part, inverse)\n",
    "    right_part = recursive_fft(right_part, inverse)\n",
    "    angle = (2 * np.pi * (-1 if inverse else 1)) / np.float64(array.shape[0])\n",
    "    current_n_root = np.complex128(1 + 0j)\n",
    "    first_n_root = np.complex128(math.cos(angle) + math.sin(angle) * 1j)\n",
    "    new_array = array.copy()\n",
    "    for i in range(new_array.shape[0] // 2):\n",
    "        new_array[i] = left_part[i] + current_n_root * right_part[i]\n",
    "        new_array[i + new_array.shape[0] // 2] = left_part[i] - current_n_root * right_part[i]\n",
    "        if inverse:\n",
    "            new_array[i] /= 2\n",
    "            new_array[i + new_array.shape[0] // 2] /= 2\n",
    "        current_n_root *= first_n_root\n",
    "    return new_array"
   ]
  },
  {
   "cell_type": "code",
   "execution_count": 60,
   "metadata": {},
   "outputs": [],
   "source": [
    "def test(func, D=0, label=None):\n",
    "    points = np.linspace(segment_begin, segment_end, num=sampling_frequency)\n",
    "    function_values = np.array([func(points[i]) for i in range(sampling_frequency)],\n",
    "                               dtype=np.float64)\n",
    "    if not label == 'raw':\n",
    "        if not math.log2(sampling_frequency).is_integer():\n",
    "            new_size = 2 ** int(math.ceil(math.log2(sampling_frequency)))\n",
    "            function_values =\\\n",
    "                np.concatenate((function_values, np.zeros(new_size - sampling_frequency,\n",
    "                                                          dtype=np.complex128)))\n",
    "        ffted = fft(function_values)\n",
    "        for i in range(int(ffted.shape[0] * (1 - D)), ffted.shape[0]):\n",
    "            ffted[i] = np.complex128(0)\n",
    "        inverse_ffted = fft(ffted, True)\n",
    "    else:\n",
    "        inverse_ffted = function_values\n",
    "    plt.plot(points, inverse_ffted.real[:sampling_frequency],\n",
    "             label=str(D) if label == None else label)\n",
    "    plt.grid(True)\n",
    "    "
   ]
  },
  {
   "cell_type": "code",
   "execution_count": 61,
   "metadata": {},
   "outputs": [],
   "source": [
    "def serie_of_tests_for_funcs(func, array):\n",
    "    for elem in array:\n",
    "        test(func, *elem)\n",
    "    plt.legend(bbox_to_anchor=(1.04, 1), loc='right')\n",
    "    plt.show()"
   ]
  },
  {
   "cell_type": "code",
   "execution_count": 62,
   "metadata": {},
   "outputs": [],
   "source": [
    "plt.rcParams['figure.figsize'] = (10, 7)"
   ]
  },
  {
   "cell_type": "markdown",
   "metadata": {},
   "source": [
    "При любом D функция перестает быть похожа на исходную.  \n",
    "При большом значении (0.9) и малых (0.015, 0.05) функция выглядит гладкой.  \n",
    "При средних значениях (0.3, 0.6) функции выглядят ломаными.  \n",
    "При этом при всех D > 0 графики функций локализованы примерно в одной области."
   ]
  },
  {
   "cell_type": "code",
   "execution_count": 77,
   "metadata": {},
   "outputs": [
    {
     "data": {},
     "metadata": {
      "needs_background": "light"
     },
     "output_type": "display_data"
    }
   ],
   "source": [
    "\"\"\"\n",
    "f(x) = x\n",
    "\"\"\"\n",
    "func = lambda x: x\n",
    "serie_of_tests_for_funcs(func,(\n",
    "    (0., 'raw'),\n",
    "    (0.,),\n",
    "    (0.015,),\n",
    "    (0.05,),\n",
    "    (0.3,),\n",
    "    (0.6,),\n",
    "    (0.9,)\n",
    "))"
   ]
  },
  {
   "cell_type": "code",
   "execution_count": null,
   "metadata": {},
   "outputs": [],
   "source": [
    "Поведение функции идентично поведению функции f(x) = x, причем у этой функции после преобразования Фурье\n",
    "сильно уменьшилась скорость возрастания."
   ]
  },
  {
   "cell_type": "code",
   "execution_count": 64,
   "metadata": {},
   "outputs": [
    {
     "data": {},
     "metadata": {
      "needs_background": "light"
     },
     "output_type": "display_data"
    }
   ],
   "source": [
    "\"\"\"\n",
    "    f(x) = x^2\n",
    "\"\"\"\n",
    "func = lambda x: x * x\n",
    "serie_of_tests_for_funcs(func, (\n",
    "    (0.0, 'raw'),\n",
    "    (0.0,),\n",
    "    (0.05,),\n",
    "    (0.3,),\n",
    "    (0.6,),\n",
    "    (0.9,)\n",
    "))"
   ]
  },
  {
   "cell_type": "markdown",
   "metadata": {},
   "source": [
    "При любом параметре D, отличном от нуля, периодичность функции сохраняется и общее поведение тоже, но уменьшается амплитуда, причем это не зависит от параметра D"
   ]
  },
  {
   "cell_type": "code",
   "execution_count": 65,
   "metadata": {},
   "outputs": [
    {
     "data": {},
     "metadata": {
      "needs_background": "light"
     },
     "output_type": "display_data"
    }
   ],
   "source": [
    "\"\"\"\n",
    "f(x) = sin(x)\n",
    "\"\"\"\n",
    "func = lambda x: math.sin(x)\n",
    "serie_of_tests_for_funcs(func, (\n",
    "    (0.0, 'raw'),\n",
    "    (0.0,),\n",
    "    (0.015,),\n",
    "    (0.05,),\n",
    "    (0.3,),\n",
    "    (0.6,),\n",
    "    (0.9,)\n",
    "))"
   ]
  },
  {
   "cell_type": "markdown",
   "metadata": {},
   "source": [
    "При низких параметрах D функцию почти неотличима от f, особенно на отрезке [2, 10], с повышением параметра D ее амплитуда повышается, но сохраняется периодичность"
   ]
  },
  {
   "cell_type": "code",
   "execution_count": 73,
   "metadata": {},
   "outputs": [
    {
     "data": {},
     "metadata": {
      "needs_background": "light"
     },
     "output_type": "display_data"
    }
   ],
   "source": [
    "func = lambda x: math.sin(x * x)\n",
    "serie_of_tests_for_funcs(func, (\n",
    "    (0.0, 'raw'),\n",
    "    (0.0,),\n",
    "    (0.015,),\n",
    "    (0.05,),\n",
    "    (0.3,),\n",
    "    (0.6,),\n",
    "    (0.9,)\n",
    "))"
   ]
  },
  {
   "cell_type": "markdown",
   "metadata": {},
   "source": [
    "При D = 0.015, 0.05, 0.9 функция остается гладкой (то есть, при низких и высоких значениях),\n",
    "у преобразованной функции немного сдвигаются экстремумы и она становится немного более пологой."
   ]
  },
  {
   "cell_type": "code",
   "execution_count": 78,
   "metadata": {},
   "outputs": [
    {
     "data": {},
     "metadata": {
      "needs_background": "light"
     },
     "output_type": "display_data"
    }
   ],
   "source": [
    "func = lambda x: math.sin(x) / x\n",
    "serie_of_tests_for_funcs(func, (\n",
    "    (0.0, 'raw'),\n",
    "    (0.0,),\n",
    "    (0.015,),\n",
    "    (0.05,),\n",
    "    (0.3,),\n",
    "    (0.6,),\n",
    "    (0.9,)\n",
    "))"
   ]
  },
  {
   "cell_type": "markdown",
   "metadata": {},
   "source": [
    "Общий вывод для всех функций:  \n",
    "1) Композиция  прямого и обратного преобразование Фурье абсолютно не изменяет функции  \n",
    "2) При небольшом D (0.01-0.05) функции значительно теряют амплитуду, но сохраняют гладкость, период и график остается похож на график исходной функции  \n",
    "3) При средних D (0.3-0.6) функция теряет гладкость  \n",
    "4) При высоких значениях D (>= 0.9) функция снова становится гладкой, при этом ее амплитуда сильно падает  "
   ]
  }
 ],
 "metadata": {
  "kernelspec": {
   "display_name": "Python 3",
   "language": "python",
   "name": "python3"
  },
  "language_info": {
   "codemirror_mode": {
    "name": "ipython",
    "version": 3
   },
   "file_extension": ".py",
   "mimetype": "text/x-python",
   "name": "python",
   "nbconvert_exporter": "python",
   "pygments_lexer": "ipython3",
   "version": "3.6.9"
  }
 },
 "nbformat": 4,
 "nbformat_minor": 2
}
